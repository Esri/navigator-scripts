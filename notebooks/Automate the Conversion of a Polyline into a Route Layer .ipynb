{
 "cells": [
  {
   "cell_type": "markdown",
   "metadata": {},
   "source": [
    "# Transform a Bus Route Polyline into a Route Layer"
   ]
  },
  {
   "cell_type": "markdown",
   "metadata": {},
   "source": [
    "It’s summer in Portland, Maine, and two local schools have partnered up to offer students a week long camping trip to Peaks Island. King Middle School and Jack Jr. Highschool students will board a bus at the school that they attend, and then they will be driven to the Peaks Island Ferry for drop-off. You, as the school bus dispatcher, are to create the bus routes that these two drivers will follow. \n",
    "\n",
    "In this lesson, you’ll take two existing bus routes that were generated using a 3rd party bus scheduling solution and convert them into route layers that can be used in Navigator for ArcGIS. The Navigator application will provide bus drivers with turn-by-turn directions, even in disconnected environments.\n",
    "\n",
    "You will use the **ArcPy** module to automate this workflow. \n"
   ]
  },
  {
   "cell_type": "markdown",
   "metadata": {},
   "source": [
    "**Lesson Plan:**\n",
    "\n",
    "1.\tPrepare stops layer \n",
    "2.\tCreate route analysis layer and solve routes\n",
    "3.\tShare route analysis layer as route layers\n"
   ]
  },
  {
   "cell_type": "markdown",
   "metadata": {},
   "source": [
    "## Prepare stops layer\n",
    "\n",
    "You will first prepare the stops layer that will be used to generate bus routes to and from each middle school. You will take the vertices that were used to create the bus route polylines and convert them into a point feature layer that can be imported into a route. By deriving this stops layer from the polyline geometry, you are maintaining the integrity of the original routes you created using the 3rd party bus scheduling solution. "
   ]
  },
  {
   "cell_type": "markdown",
   "metadata": {},
   "source": [
    "**1. Connect to your workspace**\n",
    "\n",
    "The first thing you'll do is import the **os module** to connect to the local drive that contains the project data. You'll then import the **ArcPy module** which is the Python site package that allows you to manipulate geographic data and automate workflows. Find the complete documentation for ArcPy [here](http://desktop.arcgis.com/en/arcmap/10.3/analyze/arcpy/what-is-arcpy-.htm)."
   ]
  },
  {
   "cell_type": "code",
   "execution_count": 33,
   "metadata": {},
   "outputs": [
    {
     "data": {
      "text/plain": [
       "'C:\\\\Users\\\\jos10367\\\\Documents\\\\GitHub\\\\navigator-scripts\\\\data\\\\SummerCampBusRoutes'"
      ]
     },
     "execution_count": 33,
     "metadata": {},
     "output_type": "execute_result"
    }
   ],
   "source": [
    "import arcpy \n",
    "import os \n",
    "\n",
    "## establish a directory to the local drive that is storing the geodatabase for this project \n",
    "notebook_dir = os.path.abspath(r'C:\\Users\\jos10367\\Documents\\GitHub\\navigator-scripts\\data\\SummerCampBusRoutes')\n",
    "\n",
    "## overwrite environment to make sure that previous outputs made within this notebook are erase\n",
    "arcpy.env.overwriteOutput = True\n",
    "\n",
    "notebook_dir"
   ]
  },
  {
   "cell_type": "markdown",
   "metadata": {},
   "source": [
    "**2. Simplify your polylines**"
   ]
  },
  {
   "cell_type": "markdown",
   "metadata": {},
   "source": [
    "The more complex a polyline is, the more vertices it will have in order to maintain its accuracy of the shape during its creation. Since the vertices of these lines will be used as stops and waypoints to guide your route creation, you'll want to limit the amount you're working with. The [simplify line](https://pro.arcgis.com/en/pro-app/tool-reference/cartography/simplify-line.htm) tool allows you to to remove extraneous vertices of a polyline while preserving its essential shape. \n",
    "\n",
    "You'll run this tool to simplify your bus route polylines. "
   ]
  },
  {
   "cell_type": "code",
   "execution_count": 35,
   "metadata": {},
   "outputs": [],
   "source": [
    "import arcpy.cartography as CA\n",
    "\n",
    "bus_lines = os.path.join(notebook_dir,'SummerCampBusRoutes.gdb/BusRoutes')\n",
    "output_file = os.path.join(notebook_dir, 'SummerCampBusRoutes.gdb/SimplifiedBusRoutes')\n",
    "\n",
    "#POINT_REMOVE retains critical points that preserve the essential shape of the line\n",
    "\n",
    "#The tolerance we will use is 25 meters. This is the maximum allowable distance between each vertex and the new line.\n",
    "\n",
    "simplified_bus = CA.SimplifyLine(bus_lines,output_file,\"POINT_REMOVE\",25)"
   ]
  },
  {
   "cell_type": "markdown",
   "metadata": {},
   "source": [
    "**3. Convert simplified polyline vertices into point feature data**"
   ]
  },
  {
   "cell_type": "markdown",
   "metadata": {},
   "source": [
    "This **Feature Vertices to Points** tool will take the vertices of your simplified polylines and convert them into point feature data. These points will be serve as the **stops and waypoints** that will solve the final route layers. "
   ]
  },
  {
   "cell_type": "code",
   "execution_count": 36,
   "metadata": {},
   "outputs": [],
   "source": [
    "output_file = os.path.join(notebook_dir, 'SummerCampBusRoutes.gdb\\BusPoints')\n",
    "\n",
    "bus_points = arcpy.FeatureVerticesToPoints_management(simplified_bus, output_file, \"ALL\")"
   ]
  },
  {
   "cell_type": "markdown",
   "metadata": {},
   "source": [
    "## Create route analysis layer and solve routes\n",
    "\n",
    "It’s time to generate your routes. In the previous lesson, you prepared a point feature layer from the vertices of your polylines. Now, you will create a route layer using the Network Analysis extension. Once created, you will import your point feature layer in as stops and then solve the route. "
   ]
  },
  {
   "cell_type": "markdown",
   "metadata": {},
   "source": [
    "**1. Create route analysis layer**\n",
    "\n",
    "Now you will set up your **route analysis layer**. This is used for determining the best route between a set of locations. You are able to use your own network data source for this, but for this project you'll just be pulling the network from ArcGIS Online. "
   ]
  },
  {
   "cell_type": "code",
   "execution_count": 37,
   "metadata": {},
   "outputs": [
    {
     "data": {
      "text/plain": [
       "<Result 'Route'>"
      ]
     },
     "execution_count": 37,
     "metadata": {},
     "output_type": "execute_result"
    }
   ],
   "source": [
    "arcpy.na.MakeRouteAnalysisLayer(\"https://www.arcgis.com/\", #network data source\n",
    "                                \"Route\",                   #route layer name\n",
    "                                \"Driving Time\",            #travel mode\n",
    "                                \"USE_CURRENT_ORDER\",       #sequence\n",
    "                                 None,                     #time of day (not needed for this lesson)\n",
    "                                \"LOCAL_TIME_AT_LOCATIONS\", #time_zone (not needed) \n",
    "                                \"ALONG_NETWORK\",           #line_shape\n",
    "                                 None,                     #accumulate attributes (not needed)\n",
    "                                \"DIRECTIONS\")              #generates directions"
   ]
  },
  {
   "cell_type": "markdown",
   "metadata": {},
   "source": [
    "**2. Import Stops**"
   ]
  },
  {
   "cell_type": "markdown",
   "metadata": {},
   "source": [
    "You will now **import your bus points layer as stops** into your newly created route. You will utilize a **field mapping** parameter to ensure that two unique routes will be created based off of the RouteName field of your bus points layer (either King Middle or Jack Jr. High). You will **sort your stops** using **OBJECTID** as they this correlates with the direction in which you want your routes to go. \n",
    "\n",
    "Complete documentation for the **add locations** tool can be found [here](https://pro.arcgis.com/en/pro-app/tool-reference/network-analyst/add-locations.htm)."
   ]
  },
  {
   "cell_type": "code",
   "execution_count": 38,
   "metadata": {},
   "outputs": [
    {
     "data": {
      "text/plain": [
       "<Result 'Route'>"
      ]
     },
     "execution_count": 38,
     "metadata": {},
     "output_type": "execute_result"
    }
   ],
   "source": [
    "arcpy.na.AddLocations(\"Route\", \n",
    "                      \"Stops\", \n",
    "                      bus_points, \n",
    "                      \"Name # #;RouteName RouteName #;Sequence # #;TimeWindowStart # #;TimeWindowEnd # #;LocationType # 0;CurbApproach # 0;Attr_Minutes # 0;Attr_TravelTime # 0;Attr_Miles # 0;Attr_Kilometers # 0;Attr_TimeAt1KPH # 0;Attr_WalkTime # 0;Attr_TruckMinutes # 0;Attr_TruckTravelTime # 0\",\n",
    "                      \"5000 Meters\", \"OBJECTID\", \n",
    "                       None, \n",
    "                      \"MATCH_TO_CLOSEST\",\n",
    "                      \"APPEND\", \n",
    "                      \"NO_SNAP\", \n",
    "                      \"5 Meters\", \n",
    "                      \"EXCLUDE\",\n",
    "                      None)"
   ]
  },
  {
   "cell_type": "markdown",
   "metadata": {},
   "source": [
    "**3. Convert intermediate stops into waypoints**\n",
    "\n",
    "A stop within a route layer can have one of three location types, each with an assigned value."
   ]
  },
  {
   "cell_type": "markdown",
   "metadata": {},
   "source": [
    "|Location Type|Description|Value|\n",
    "|-|-|-|\n",
    "|Stop|A location that the route should visit. This is the default| 0 |\n",
    "|Waypoint|A location that the route should travel through without making a stop.| 1 | \n",
    "|Break|A location where the route stops for the driver to take a break| 2 | "
   ]
  },
  {
   "cell_type": "markdown",
   "metadata": {},
   "source": [
    "Start by setting your workspace within the SummerCampBusRoutes geodatabase. This will make it easier when calling out the layers that you'll be working with. "
   ]
  },
  {
   "cell_type": "code",
   "execution_count": 39,
   "metadata": {},
   "outputs": [],
   "source": [
    "arcpy.env.workspace = os.path.join(notebook_dir, 'SummerCampBusRoutes.gdb')"
   ]
  },
  {
   "cell_type": "markdown",
   "metadata": {},
   "source": [
    "Get the total count of stops within the Stops sublayer of your Route. You will use this to find the number of stops for each inidividual route within the next step."
   ]
  },
  {
   "cell_type": "code",
   "execution_count": 40,
   "metadata": {},
   "outputs": [
    {
     "data": {
      "text/plain": [
       "<Result '21'>"
      ]
     },
     "execution_count": 40,
     "metadata": {},
     "output_type": "execute_result"
    }
   ],
   "source": [
    "results = arcpy.GetCount_management(\"Stops\")\n",
    "results"
   ]
  },
  {
   "cell_type": "markdown",
   "metadata": {},
   "source": [
    "In this next step, you will iterate through your stops layer in order to find out how many stops are in each route. You will store these values in **king_count** and **jack_count**. Print these results so you know how many stops each route has."
   ]
  },
  {
   "cell_type": "code",
   "execution_count": 41,
   "metadata": {},
   "outputs": [
    {
     "name": "stdout",
     "output_type": "stream",
     "text": [
      "10\n",
      "11\n"
     ]
    }
   ],
   "source": [
    "king_count = 0\n",
    "jack_count = 0 \n",
    "\n",
    "cursor = arcpy.da.SearchCursor(\"Stops\", ['RouteName'])\n",
    "for row in cursor:\n",
    "     if row[0] == 'King Middle School':\n",
    "            king_count = king_count + 1\n",
    "     else:\n",
    "            jack_count = jack_count + 1\n",
    "            \n",
    "\n",
    "print(king_count)\n",
    "print(jack_count)\n",
    "        \n",
    "king_count = int(king_count)\n",
    "jack_count = int(jack_count)"
   ]
  },
  {
   "cell_type": "markdown",
   "metadata": {},
   "source": [
    "Now you will use the **SelectLAyerByAttribute** tool to select the stops you want to **preserve** as stops. Remember that we will be switching this selection in the next step, so that we can turn every other stop into a **waypoint**. "
   ]
  },
  {
   "cell_type": "code",
   "execution_count": 42,
   "metadata": {},
   "outputs": [
    {
     "data": {
      "text/plain": [
       "<Result 'Stops'>"
      ]
     },
     "execution_count": 42,
     "metadata": {},
     "output_type": "execute_result"
    }
   ],
   "source": [
    "##selecting the first stop in each unique route\n",
    "\n",
    "arcpy.management.SelectLayerByAttribute(\"Stops\", \"ADD_TO_SELECTION\", 'Sequence=1')\n",
    "\n",
    "#selecting the last stop in the King Middle School Route\n",
    "\n",
    "arcpy.management.SelectLayerByAttribute(\"Stops\", \"ADD_TO_SELECTION\", \n",
    "                                        \"RouteName = 'King Middle School' And Sequence = \" + str(king_count)) \n",
    "\n",
    "#selecting the last stop in the Jack Jr. Highschool Route\n",
    "\n",
    "arcpy.management.SelectLayerByAttribute(\"Stops\", \"ADD_TO_SELECTION\", \n",
    "                                        \"RouteName = 'Jack Jr. High' And Sequence = \" + str(jack_count)) "
   ]
  },
  {
   "cell_type": "markdown",
   "metadata": {},
   "source": [
    "Go ahead and check that you've selected the stops you want to preserve by listing them with a cursor. The following code should print four stops total; 2 from each middle school route. "
   ]
  },
  {
   "cell_type": "code",
   "execution_count": 43,
   "metadata": {
    "scrolled": true
   },
   "outputs": [
    {
     "name": "stdout",
     "output_type": "stream",
     "text": [
      "(1, 'King Middle School')\n",
      "(10, 'King Middle School')\n",
      "(1, 'Jack Jr. High')\n",
      "(11, 'Jack Jr. High')\n"
     ]
    }
   ],
   "source": [
    "cursor = arcpy.da.SearchCursor(\"Stops\", ['Sequence', 'RouteName'])\n",
    "for row in cursor:\n",
    "    print(row)"
   ]
  },
  {
   "cell_type": "markdown",
   "metadata": {},
   "source": [
    "Use the **Switch Selection** parameter in the **Select Layer by Attribute** tool, to switch from these four stops, to the other stops you want to convert into waypoints. "
   ]
  },
  {
   "cell_type": "code",
   "execution_count": 44,
   "metadata": {},
   "outputs": [
    {
     "data": {
      "text/plain": [
       "<Result 'Stops'>"
      ]
     },
     "execution_count": 44,
     "metadata": {},
     "output_type": "execute_result"
    }
   ],
   "source": [
    "arcpy.management.SelectLayerByAttribute(\"Stops\",\"SWITCH_SELECTION\")"
   ]
  },
  {
   "cell_type": "markdown",
   "metadata": {},
   "source": [
    "If you'd like, you can print your new selection to ensure everything has executed properly. "
   ]
  },
  {
   "cell_type": "code",
   "execution_count": 45,
   "metadata": {
    "scrolled": true
   },
   "outputs": [
    {
     "name": "stdout",
     "output_type": "stream",
     "text": [
      "(2, 'King Middle School', 0)\n",
      "(3, 'King Middle School', 0)\n",
      "(4, 'King Middle School', 0)\n",
      "(5, 'King Middle School', 0)\n",
      "(6, 'King Middle School', 0)\n",
      "(7, 'King Middle School', 0)\n",
      "(8, 'King Middle School', 0)\n",
      "(9, 'King Middle School', 0)\n",
      "(2, 'Jack Jr. High', 0)\n",
      "(3, 'Jack Jr. High', 0)\n",
      "(4, 'Jack Jr. High', 0)\n",
      "(5, 'Jack Jr. High', 0)\n",
      "(6, 'Jack Jr. High', 0)\n",
      "(7, 'Jack Jr. High', 0)\n",
      "(8, 'Jack Jr. High', 0)\n",
      "(9, 'Jack Jr. High', 0)\n",
      "(10, 'Jack Jr. High', 0)\n"
     ]
    }
   ],
   "source": [
    "cursor = arcpy.da.SearchCursor(\"Stops\", ['Sequence', 'RouteName','LocationType'])\n",
    "for row in cursor:\n",
    "    print(row)"
   ]
  },
  {
   "cell_type": "markdown",
   "metadata": {},
   "source": [
    "Use the **Calculate Field** tool to change all of the selected stops, valued at 0, into waypoints, using its assigned value of 1. "
   ]
  },
  {
   "cell_type": "code",
   "execution_count": 46,
   "metadata": {},
   "outputs": [
    {
     "data": {
      "text/plain": [
       "<Result 'Stops'>"
      ]
     },
     "execution_count": 46,
     "metadata": {},
     "output_type": "execute_result"
    }
   ],
   "source": [
    "arcpy.management.CalculateField(\"Stops\", \"LocationType\", \"1\", \"PYTHON3\", '')"
   ]
  },
  {
   "cell_type": "markdown",
   "metadata": {},
   "source": [
    "You have now successfully converted all your intermediate stops into waypoints. "
   ]
  },
  {
   "cell_type": "markdown",
   "metadata": {},
   "source": [
    "**4. Solve route analysis layer**\n",
    "\n",
    "You will now run the Solve the route analysis layer. Two unique routes will be generated along with turn-by-turn directions. "
   ]
  },
  {
   "cell_type": "code",
   "execution_count": 47,
   "metadata": {},
   "outputs": [
    {
     "data": {
      "text/plain": [
       "<Result 'Route'>"
      ]
     },
     "execution_count": 47,
     "metadata": {},
     "output_type": "execute_result"
    }
   ],
   "source": [
    "arcpy.na.Solve(\"Route\")"
   ]
  },
  {
   "cell_type": "markdown",
   "metadata": {},
   "source": [
    "## Share route analysis layer as route layers"
   ]
  },
  {
   "cell_type": "markdown",
   "metadata": {},
   "source": [
    "Now that you have created and solved the bus routes, you are ready to share them with your organization. You will use the **Share As Route Layers** tool to share the bus routes with your bus drivers. They will now have turn by turn directions available to them when using Navigator for ArcGIS. "
   ]
  },
  {
   "cell_type": "markdown",
   "metadata": {},
   "source": [
    "**1. Share routes to ArcGIS Online**"
   ]
  },
  {
   "cell_type": "code",
   "execution_count": 48,
   "metadata": {},
   "outputs": [
    {
     "ename": "AttributeError",
     "evalue": "'ToolValidator' object has no attribute 'isLicensed'",
     "output_type": "error",
     "traceback": [
      "\u001b[1;31m---------------------------------------------------------------------------\u001b[0m",
      "\u001b[1;31mAttributeError\u001b[0m                            Traceback (most recent call last)",
      "\u001b[1;32mc:\\program files\\arcgis\\pro\\Resources\\ArcToolbox\\toolboxes\\Network Analyst Tools.tbx#ShareAsRouteLayers_na.InitializeParameters.py\u001b[0m in \u001b[0;36m<module>\u001b[1;34m\u001b[0m\n",
      "\u001b[1;31mAttributeError\u001b[0m: 'ToolValidator' object has no attribute 'isLicensed'"
     ]
    },
    {
     "ename": "AttributeError",
     "evalue": "'ToolValidator' object has no attribute 'isLicensed'",
     "output_type": "error",
     "traceback": [
      "\u001b[1;31m---------------------------------------------------------------------------\u001b[0m",
      "\u001b[1;31mAttributeError\u001b[0m                            Traceback (most recent call last)",
      "\u001b[1;32mc:\\program files\\arcgis\\pro\\Resources\\ArcToolbox\\toolboxes\\Network Analyst Tools.tbx#ShareAsRouteLayers_na.InitializeParameters.py\u001b[0m in \u001b[0;36m<module>\u001b[1;34m\u001b[0m\n",
      "\u001b[1;31mAttributeError\u001b[0m: 'ToolValidator' object has no attribute 'isLicensed'"
     ]
    }
   ],
   "source": [
    "route_layer = arcpy.na.ShareAsRouteLayers(\"Route\",     #input route\n",
    "                            \"Summer Camp bus routes\",  #summary\n",
    "                            \"busroutes, summercamp\",   #tags\n",
    "                            \"Peaks Ferry Bus Route\",   #a prefix for each unique route created\n",
    "                            \"josh_nitro\",              #your user name\n",
    "                            \"MYCONTENT\",               #where you want your routes to appear\n",
    "                             None)                     #if you want to add routes to a specific folder within AGOL\n"
   ]
  },
  {
   "cell_type": "markdown",
   "metadata": {},
   "source": [
    "**2. Create a Navigator Link**\n",
    "\n",
    "By creating a unique **link** for each route, you are able to share it with its respective driver. These links will open up to each bus route on Navigator when clicked on your mobile device.\n",
    "\n",
    "First you will set the number of routes you have. You have 2 routes, so you want to make sure you are creating two unique links. You will then want to obtain a map item ID. This will determine what mobible map package (mmpk) your routes open up on. I have provided an item ID to Southern Maine already. "
   ]
  },
  {
   "cell_type": "code",
   "execution_count": 52,
   "metadata": {},
   "outputs": [],
   "source": [
    "num_routes = 2\n",
    "\n",
    "map_item='69a77ed166044909b8f7469dd4f31b84' #this is the item ID for a map of Southern Maine\n"
   ]
  },
  {
   "cell_type": "markdown",
   "metadata": {},
   "source": [
    "From the apps module, import the Navigator URL builder function and then create a unique URL for the route result**\n",
    "\n",
    " - a. create url_type of 'Web' that can be opened on iOS or Android devices from email, text message, etc.\n",
    " - b. set theroute_item parameter from the route's RouteLayerItemID attribute\n",
    " - c. use the preferred map as the webmap parameter (map_item)"
   ]
  },
  {
   "cell_type": "code",
   "execution_count": 54,
   "metadata": {},
   "outputs": [
    {
     "name": "stdout",
     "output_type": "stream",
     "text": [
      "https://navigator.arcgis.app?itemID=69a77ed166044909b8f7469dd4f31b84&routeItemID=4cb7a54e7a0a48798c0ab13b28d21959\n",
      "https://navigator.arcgis.app?itemID=69a77ed166044909b8f7469dd4f31b84&routeItemID=766a70ef69414be1bfe855c758b85be7\n"
     ]
    }
   ],
   "source": [
    "from arcgis.apps import build_navigator_url\n",
    "\n",
    "route_string = str(route_layer)        #turns your results layer into a string\n",
    "route_unique = route_string.split(\",\") #parses the string into each individual route result \n",
    "\n",
    "#you will then parse your results strings to obtain each individual route item id\n",
    "\n",
    "n=0 \n",
    "\n",
    "while n < num_routes: \n",
    "            route_layer_item_id = (route_unique[n].split(\"=\"))[1].split(\"'\")[0]\n",
    "            url=build_navigator_url(url_type='Web', webmap=map_item, route_item=route_layer_item_id)\n",
    "            print(url)\n",
    "            n = n+1"
   ]
  },
  {
   "cell_type": "markdown",
   "metadata": {},
   "source": [
    "Clicking on either of these links on your mobile device will opn its respective route in Navigator! "
   ]
  },
  {
   "cell_type": "code",
   "execution_count": null,
   "metadata": {},
   "outputs": [],
   "source": []
  }
 ],
 "metadata": {
  "kernelspec": {
   "display_name": "Python 3",
   "language": "python",
   "name": "python3"
  },
  "language_info": {
   "codemirror_mode": {
    "name": "ipython",
    "version": 3
   },
   "file_extension": ".py",
   "mimetype": "text/x-python",
   "name": "python",
   "nbconvert_exporter": "python",
   "pygments_lexer": "ipython3",
   "version": "3.6.8"
  }
 },
 "nbformat": 4,
 "nbformat_minor": 2
}
