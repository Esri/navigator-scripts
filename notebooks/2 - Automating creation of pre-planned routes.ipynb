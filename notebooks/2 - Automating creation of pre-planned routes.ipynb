{
 "cells": [
  {
   "cell_type": "markdown",
   "metadata": {},
   "source": [
    "# Automating creation of pre-planned routes\n",
    "\n",
    "Let's take a look at how we can automate the creation of pre-planned routes using the **ArcGIS API for Python**. In this example, we will loosely follow the **Plan Routes for Food Inspectors** lesson plan (see below) and show how you can share the resulting routes from our analysis to **Navigator for ArcGIS**.\n",
    "\n",
    ">### Plan Routes for Food Inspectors\n",
    ">#### [Help four health officials inspect 36 restaurants in San Diego County](http://learn.arcgis.com/en/projects/plan-routes-for-food-inspectors/) (Learn ArcGIS)\n",
    ">\n",
    ">San Diego County includes 4,300 squares miles of Southern California. It also has 12,000 food establishments — and you, as a supervisor for the county's retail food monitoring and compliance program, have just four inspectors. In this lesson, you'll map the unannounced inspections of your food detectives in ways that spreads their stops geographically while keeping them in restaurants more and on roads less.\n",
    "\n",
    "## Lesson Plan\n",
    "- **Create layers for analysis** - Create layers by using Feature Collections and publishing CSV files as Feature Layers\n",
    "- **Find the routes and stops** - Identify the most efficient routes for the inspectors to take to the restaurants\n",
    "- **Share routes with inspectors** - Create URLs for inspectors to quickly open routes in Navigator for ArcGIS\n",
    "\n",
    "---\n",
    "\n",
    "### Create layers for analysis\n",
    "First, you'll start by creating layers so you can organize 4 inspectors with the 36 restaurants they'll visit. Your inspectors will start these routes from their homes and complete their shifts at the Retail Food Monitoring Office, where they'll file reports and gather assignments for the following day.\n",
    "\n",
    "#### Connect to GIS\n",
    "Before we get started, we'll need to import the ArcGIS module to use the [ArcGIS API for Python](https://developers.arcgis.com/python/) and connect to our GIS."
   ]
  },
  {
   "cell_type": "code",
   "execution_count": 16,
   "metadata": {},
   "outputs": [
    {
     "name": "stdout",
     "output_type": "stream",
     "text": [
      "Enter password: ········\n"
     ]
    }
   ],
   "source": [
    "from arcgis.gis import GIS\n",
    "\n",
    "gis = GIS(\"https://arcgis.com\", \"navcurator_port\")"
   ]
  },
  {
   "cell_type": "markdown",
   "metadata": {},
   "source": [
    "#### Create a layer for the headquarters\n",
    "\n",
    "1. Import the geocode function from the geocode module. Reverse geocode the office headquarters address, using the first result's location as the geometry for your headquarters Feature."
   ]
  },
  {
   "cell_type": "code",
   "execution_count": 17,
   "metadata": {},
   "outputs": [],
   "source": [
    "from arcgis.geocoding import geocode\n",
    "from arcgis import features\n",
    "\n",
    "headquarters_location = geocode(\"5500 Overland Ave San Diego California, 92123\", out_sr={\"wkid\": 3857})[0][\"location\"]\n",
    "headquarters_location[\"spatialReference\"] = {\"wkid\": 3857}\n",
    "headquarters_feature = arcgis.features.Feature(\n",
    "    attributes={\n",
    "        \"ObjectID\": 1,\n",
    "        \"Name\": \"Retail Food Monitoring Office\"\n",
    "    },\n",
    "    geometry=headquarters_location\n",
    ")"
   ]
  },
  {
   "cell_type": "markdown",
   "metadata": {},
   "source": [
    "2. Create a Feature Collection from a Feature Set that contains your headquarters Feature. Create a layer from your Feature Collection and Feature Set. The analysis will use this layer so inspectors can return to the office at the end of their routes."
   ]
  },
  {
   "cell_type": "code",
   "execution_count": 18,
   "metadata": {},
   "outputs": [],
   "source": [
    "feature_set = arcgis.features.FeatureSet([headquarters_feature])\n",
    "feature_collection = arcgis.features.FeatureCollection.from_featureset(feature_set)\n",
    "headquarters_layer = {\"layerDefinition\": feature_collection.properties[\"layers\"][0][\"layerDefinition\"], \"featureSet\": feature_set.value}"
   ]
  },
  {
   "cell_type": "markdown",
   "metadata": {},
   "source": [
    "#### Create a layer for the restaurants\n",
    "\n",
    "1. Add CSV file as an item in your GIS, or update if the item already exists."
   ]
  },
  {
   "cell_type": "code",
   "execution_count": 19,
   "metadata": {},
   "outputs": [],
   "source": [
    "restaurants_properties = {'title':'Restaurant_Inspections',\n",
    "                          'tags':'UC2019',\n",
    "                          'type':'CSV'}\n",
    "existing_csv_items = gis.content.search('title:Restaurant_Inspections type:CSV')\n",
    "if not existing_csv_items:\n",
    "    restaurants_csv = gis.content.add(restaurants_properties,\n",
    "                                      data='../data/Restaurants.csv',\n",
    "                                      folder='UC2019')\n",
    "else:\n",
    "    restaurants_csv = existing_csv_items[0]\n",
    "    restaurants_csv.update(restaurants_properties,\n",
    "                                 data='../data/Restaurants.csv',)"
   ]
  },
  {
   "cell_type": "markdown",
   "metadata": {},
   "source": [
    "2. Publish CSV item to spatially enable as a Feature Service."
   ]
  },
  {
   "cell_type": "code",
   "execution_count": 20,
   "metadata": {
    "scrolled": true
   },
   "outputs": [
    {
     "data": {
      "text/html": [
       "<div class=\"item_container\" style=\"height: auto; overflow: hidden; border: 1px solid #cfcfcf; border-radius: 2px; background: #f6fafa; line-height: 1.21429em; padding: 10px;\">\n",
       "                    <div class=\"item_left\" style=\"width: 210px; float: left;\">\n",
       "                       <a href='https://portlandia.maps.arcgis.com/home/item.html?id=6d1fde1b5524451889b345113a053ed9' target='_blank'>\n",
       "                        <img src='http://static.arcgis.com/images/desktopapp.png' class=\"itemThumbnail\">\n",
       "                       </a>\n",
       "                    </div>\n",
       "\n",
       "                    <div class=\"item_right\"     style=\"float: none; width: auto; overflow: hidden;\">\n",
       "                        <a href='https://portlandia.maps.arcgis.com/home/item.html?id=6d1fde1b5524451889b345113a053ed9' target='_blank'><b>Restaurant_Inspections</b>\n",
       "                        </a>\n",
       "                        <br/><img src='https://portlandia.maps.arcgis.com/home/js/jsapi/esri/css/images/item_type_icons/featureshosted16.png' style=\"vertical-align:middle;\">Feature Layer Collection by navcurator_port\n",
       "                        <br/>Last Modified: February 04, 2019\n",
       "                        <br/>0 comments, 0 views\n",
       "                    </div>\n",
       "                </div>\n",
       "                "
      ],
      "text/plain": [
       "<Item title:\"Restaurant_Inspections\" type:Feature Layer Collection owner:navcurator_port>"
      ]
     },
     "execution_count": 20,
     "metadata": {},
     "output_type": "execute_result"
    }
   ],
   "source": [
    "restaurants_lyr = restaurants_csv.publish(overwrite=True)\n",
    "restaurants_lyr"
   ]
  },
  {
   "cell_type": "markdown",
   "metadata": {},
   "source": [
    "#### Create a layer for the inspectors' homes\n",
    "\n",
    "1. Add CSV file as an item in your GIS, or update if the item already exists."
   ]
  },
  {
   "cell_type": "code",
   "execution_count": 21,
   "metadata": {},
   "outputs": [],
   "source": [
    "homes_properties = {'title':'Inspector_Homes',\n",
    "                    'tags':'UC2019',\n",
    "                    'type':'CSV'}\n",
    "existing_csv_items = gis.content.search('title:Inspector_Homes type:CSV')\n",
    "if not existing_csv_items:\n",
    "    homes_csv = gis.content.add(homes_properties,\n",
    "                                data='../data/Homes.csv',\n",
    "                                folder='UC2019')\n",
    "else:\n",
    "    homes_csv = existing_csv_items[0]\n",
    "    homes_csv.update(homes_properties,\n",
    "                     data='../data/Homes.csv',)"
   ]
  },
  {
   "cell_type": "markdown",
   "metadata": {},
   "source": [
    "2. Publish CSV item to spatially enable as a Feature Service."
   ]
  },
  {
   "cell_type": "code",
   "execution_count": 22,
   "metadata": {},
   "outputs": [
    {
     "data": {
      "text/html": [
       "<div class=\"item_container\" style=\"height: auto; overflow: hidden; border: 1px solid #cfcfcf; border-radius: 2px; background: #f6fafa; line-height: 1.21429em; padding: 10px;\">\n",
       "                    <div class=\"item_left\" style=\"width: 210px; float: left;\">\n",
       "                       <a href='https://portlandia.maps.arcgis.com/home/item.html?id=41107ffc0a7446b08326e8759c0d5f61' target='_blank'>\n",
       "                        <img src='http://static.arcgis.com/images/desktopapp.png' class=\"itemThumbnail\">\n",
       "                       </a>\n",
       "                    </div>\n",
       "\n",
       "                    <div class=\"item_right\"     style=\"float: none; width: auto; overflow: hidden;\">\n",
       "                        <a href='https://portlandia.maps.arcgis.com/home/item.html?id=41107ffc0a7446b08326e8759c0d5f61' target='_blank'><b>Inspector_Homes</b>\n",
       "                        </a>\n",
       "                        <br/><img src='https://portlandia.maps.arcgis.com/home/js/jsapi/esri/css/images/item_type_icons/featureshosted16.png' style=\"vertical-align:middle;\">Feature Layer Collection by navcurator_port\n",
       "                        <br/>Last Modified: February 04, 2019\n",
       "                        <br/>0 comments, 0 views\n",
       "                    </div>\n",
       "                </div>\n",
       "                "
      ],
      "text/plain": [
       "<Item title:\"Inspector_Homes\" type:Feature Layer Collection owner:navcurator_port>"
      ]
     },
     "execution_count": 22,
     "metadata": {},
     "output_type": "execute_result"
    }
   ],
   "source": [
    "homes_lyr = homes_csv.publish(overwrite=True)\n",
    "homes_lyr"
   ]
  },
  {
   "cell_type": "markdown",
   "metadata": {},
   "source": [
    "---\n",
    "\n",
    "### Find the routes and stops\n",
    "\n",
    "Next, you'll use the Plan Routes analysis tool to determine the most efficient routes connecting your four inspectors with the 36 restaurants. You'll factor into the analysis the time spent at each stop as well as the length of the work day."
   ]
  },
  {
   "cell_type": "markdown",
   "metadata": {},
   "source": [
    "#### Perform the analysis\n",
    "The Plan Routes tool finds the most efficient routes for a fleet of vehicles making multiple stops. When stops cannot be reached efficiently, the Plan Routes tool creates an unassigned stops layer with an explanation for each stop that can't be reached.\n",
    "\n",
    "Before you fill in the tool's parameters, keep in mind that you want your inspectors to do the following:\n",
    "\n",
    "- Start their work day from home\n",
    "- Begin work at approximately 10:00 a.m. to increase the likelihood that restaurant managers will be present when your food inspectors arrive\n",
    "- Limit site inspections to 45 minutes per stop\n",
    "- Work no longer than 8 hours\n",
    "- Report to the Retail Food Monitoring Office at the end of the day"
   ]
  },
  {
   "cell_type": "code",
   "execution_count": 23,
   "metadata": {},
   "outputs": [
    {
     "name": "stderr",
     "output_type": "stream",
     "text": [
      "Input field [OID] was not mapped to a field in the network analysis class \"Orders\".\n",
      "Input field [OID] was not mapped to a field in the network analysis class \"Depots\".\n",
      "Network elements with avoid-restrictions are traversed in the output (restriction attribute names: \"Through Traffic Prohibited\").\n",
      "Some orders could not be routed due to violated constraints.\n",
      "Partial solution generated.\n",
      "{\"messageCode\": \"AO_100115\", \"message\": \"Some stops were not assigned to any routes. Check the Violated Constraints field in the output unassigned stops layer for more information.\"}\n"
     ]
    },
    {
     "data": {
      "text/html": [
       "<div class=\"item_container\" style=\"height: auto; overflow: hidden; border: 1px solid #cfcfcf; border-radius: 2px; background: #f6fafa; line-height: 1.21429em; padding: 10px;\">\n",
       "                    <div class=\"item_left\" style=\"width: 210px; float: left;\">\n",
       "                       <a href='https://portlandia.maps.arcgis.com/home/item.html?id=d1e45577aaab414ebae1404ef26d6056' target='_blank'>\n",
       "                        <img src='http://static.arcgis.com/images/desktopapp.png' class=\"itemThumbnail\">\n",
       "                       </a>\n",
       "                    </div>\n",
       "\n",
       "                    <div class=\"item_right\"     style=\"float: none; width: auto; overflow: hidden;\">\n",
       "                        <a href='https://portlandia.maps.arcgis.com/home/item.html?id=d1e45577aaab414ebae1404ef26d6056' target='_blank'><b>Inspection_2019.2.5</b>\n",
       "                        </a>\n",
       "                        <br/><img src='https://portlandia.maps.arcgis.com/home/js/jsapi/esri/css/images/item_type_icons/featureshosted16.png' style=\"vertical-align:middle;\">Feature Layer Collection by navcurator_port\n",
       "                        <br/>Last Modified: February 04, 2019\n",
       "                        <br/>0 comments, 1 views\n",
       "                    </div>\n",
       "                </div>\n",
       "                "
      ],
      "text/plain": [
       "<Item title:\"Inspection_2019.2.5\" type:Feature Layer Collection owner:navcurator_port>"
      ]
     },
     "execution_count": 23,
     "metadata": {},
     "output_type": "execute_result"
    }
   ],
   "source": [
    "from datetime import datetime, timedelta\n",
    "tom = datetime.now() + timedelta(days=1)\n",
    "start_time = datetime(tom.year, tom.month, tom.day, 10, 00)\n",
    "\n",
    "new_route_name = 'Inspection_%s.%s.%s' % (tom.year, tom.month, tom.day)\n",
    "results = arcgis.features.analysis.plan_routes(restaurants_lyr,       # Layer representing stops\n",
    "                              4,                                      # Number of routes to generate\n",
    "                              20,                                     # Maximum stops per route\n",
    "                              start_time,                             # Start time of route\n",
    "                              homes_lyr,                              # Layer representing start location\n",
    "                              start_layer_route_id_field='Inspector', # Field from homes_lyr for start locations\n",
    "                              return_to_start=False,                  # Default is True, so must set to False if providing end locations\n",
    "                              end_layer=headquarters_layer,           # Layer represnting end locations\n",
    "                              stop_service_time=45,                   # How much time in minutes to spend at each stop\n",
    "                              max_route_time=480,                     # The maximum time for the worker to complete the route\n",
    "                              output_name=new_route_name,\n",
    "                              include_route_layers=True\n",
    "                              )\n",
    "results"
   ]
  },
  {
   "cell_type": "markdown",
   "metadata": {},
   "source": [
    "---\n",
    "\n",
    "### Share routes with inspectors\n",
    "\n",
    "After you've created the optimal routes for your inspectors, you can share the routes to be used in Navigator for ArcGIS. Navigator is a professional mobile navigation app that will give inspectors turn-by-turn instructions even while working in disconnected environments.\n",
    "\n",
    "#### View results of analysis in table\n",
    "\n",
    "Query the routes layer in the Feature Layer that was created from the analysis and return a dataframe. When Route Layers are included in the output, the `RouteLayerItemID` field will be populated with the item id of the generated Route Layer."
   ]
  },
  {
   "cell_type": "code",
   "execution_count": 24,
   "metadata": {},
   "outputs": [
    {
     "data": {
      "text/html": [
       "<div>\n",
       "<style scoped>\n",
       "    .dataframe tbody tr th:only-of-type {\n",
       "        vertical-align: middle;\n",
       "    }\n",
       "\n",
       "    .dataframe tbody tr th {\n",
       "        vertical-align: top;\n",
       "    }\n",
       "\n",
       "    .dataframe thead th {\n",
       "        text-align: right;\n",
       "    }\n",
       "</style>\n",
       "<table border=\"1\" class=\"dataframe\">\n",
       "  <thead>\n",
       "    <tr style=\"text-align: right;\">\n",
       "      <th></th>\n",
       "      <th>FIELD_EXP_0</th>\n",
       "      <th>OBJECTID</th>\n",
       "      <th>RouteLayerItemID</th>\n",
       "      <th>RouteLayerItemURL</th>\n",
       "      <th>SHAPE</th>\n",
       "      <th>StopCount</th>\n",
       "      <th>TotalStopServiceTime</th>\n",
       "    </tr>\n",
       "  </thead>\n",
       "  <tbody>\n",
       "    <tr>\n",
       "      <th>0</th>\n",
       "      <td>ESRI.ArcGIS.Client.Geometry.Polyline</td>\n",
       "      <td>1</td>\n",
       "      <td>5c159a41df2e45bbba1ff1eab63ab95d</td>\n",
       "      <td>https://portlandia.maps.arcgis.com/home/item.h...</td>\n",
       "      <td>{\"paths\": [[[-13048631.2759, 3875136.778], [-1...</td>\n",
       "      <td>9</td>\n",
       "      <td>405</td>\n",
       "    </tr>\n",
       "    <tr>\n",
       "      <th>1</th>\n",
       "      <td>ESRI.ArcGIS.Client.Geometry.Polyline</td>\n",
       "      <td>2</td>\n",
       "      <td>33fedfe358044efaa4de9bd97e51169b</td>\n",
       "      <td>https://portlandia.maps.arcgis.com/home/item.h...</td>\n",
       "      <td>{\"paths\": [[[-13024808.322, 3864709.5891], [-1...</td>\n",
       "      <td>9</td>\n",
       "      <td>405</td>\n",
       "    </tr>\n",
       "    <tr>\n",
       "      <th>2</th>\n",
       "      <td>ESRI.ArcGIS.Client.Geometry.Polyline</td>\n",
       "      <td>3</td>\n",
       "      <td>4f5262a363e842deb05cc8da16fbf9a7</td>\n",
       "      <td>https://portlandia.maps.arcgis.com/home/item.h...</td>\n",
       "      <td>{\"paths\": [[[-13039505.4312, 3869367.4649], [-...</td>\n",
       "      <td>9</td>\n",
       "      <td>405</td>\n",
       "    </tr>\n",
       "    <tr>\n",
       "      <th>3</th>\n",
       "      <td>ESRI.ArcGIS.Client.Geometry.Polyline</td>\n",
       "      <td>4</td>\n",
       "      <td>d114585300614613bb8f480bca3edded</td>\n",
       "      <td>https://portlandia.maps.arcgis.com/home/item.h...</td>\n",
       "      <td>{\"paths\": [[[-13024882.489, 3873008.0499], [-1...</td>\n",
       "      <td>8</td>\n",
       "      <td>360</td>\n",
       "    </tr>\n",
       "  </tbody>\n",
       "</table>\n",
       "</div>"
      ],
      "text/plain": [
       "                            FIELD_EXP_0  OBJECTID  \\\n",
       "0  ESRI.ArcGIS.Client.Geometry.Polyline         1   \n",
       "1  ESRI.ArcGIS.Client.Geometry.Polyline         2   \n",
       "2  ESRI.ArcGIS.Client.Geometry.Polyline         3   \n",
       "3  ESRI.ArcGIS.Client.Geometry.Polyline         4   \n",
       "\n",
       "                   RouteLayerItemID  \\\n",
       "0  5c159a41df2e45bbba1ff1eab63ab95d   \n",
       "1  33fedfe358044efaa4de9bd97e51169b   \n",
       "2  4f5262a363e842deb05cc8da16fbf9a7   \n",
       "3  d114585300614613bb8f480bca3edded   \n",
       "\n",
       "                                   RouteLayerItemURL  \\\n",
       "0  https://portlandia.maps.arcgis.com/home/item.h...   \n",
       "1  https://portlandia.maps.arcgis.com/home/item.h...   \n",
       "2  https://portlandia.maps.arcgis.com/home/item.h...   \n",
       "3  https://portlandia.maps.arcgis.com/home/item.h...   \n",
       "\n",
       "                                               SHAPE  StopCount  \\\n",
       "0  {\"paths\": [[[-13048631.2759, 3875136.778], [-1...          9   \n",
       "1  {\"paths\": [[[-13024808.322, 3864709.5891], [-1...          9   \n",
       "2  {\"paths\": [[[-13039505.4312, 3869367.4649], [-...          9   \n",
       "3  {\"paths\": [[[-13024882.489, 3873008.0499], [-1...          8   \n",
       "\n",
       "   TotalStopServiceTime  \n",
       "0                   405  \n",
       "1                   405  \n",
       "2                   405  \n",
       "3                   360  "
      ]
     },
     "execution_count": 24,
     "metadata": {},
     "output_type": "execute_result"
    }
   ],
   "source": [
    "routes_layer = results.layers[2]\n",
    "routes_layer.query(out_fields=\"OBJECTID,RouteLayerItemID,RouteLayerItemURL,StopCount,TotalStopServiceTime,SHAPE\",as_df=True)"
   ]
  },
  {
   "cell_type": "markdown",
   "metadata": {},
   "source": [
    "#### Share Route Layer items with organizaion\n",
    "In order for the inspector to access the Route Layers, we'll need to go ahead and share the items with the organization. We could also create private groups for each inspector and share each inpectors route with their respective group."
   ]
  },
  {
   "cell_type": "code",
   "execution_count": 25,
   "metadata": {},
   "outputs": [],
   "source": [
    "def share_route_with_group(route_layer_item_id, group_title):\n",
    "    search_query = \"id:%s\" % (route_layer_item_id)\n",
    "    route_layer = gis.content.search(search_query)\n",
    "    if not route_layer:\n",
    "        print(\"ERROR -- Route Layer not found!\")\n",
    "    else:\n",
    "        route_layer[0].share(groups=[group_title])"
   ]
  },
  {
   "cell_type": "markdown",
   "metadata": {},
   "source": [
    "#### Create Navigator for ArcGIS web links\n",
    "\n",
    "1. Find the map that the inspectors will need to use with their routes."
   ]
  },
  {
   "cell_type": "code",
   "execution_count": 26,
   "metadata": {},
   "outputs": [
    {
     "data": {
      "text/html": [
       "<div class=\"item_container\" style=\"height: auto; overflow: hidden; border: 1px solid #cfcfcf; border-radius: 2px; background: #f6fafa; line-height: 1.21429em; padding: 10px;\">\n",
       "                    <div class=\"item_left\" style=\"width: 210px; float: left;\">\n",
       "                       <a href='https://portlandia.maps.arcgis.com/home/item.html?id=da5fdb60b7854b2881f80e275bb802da' target='_blank'>\n",
       "                        <img src='data:image/png;base64,/9j/4AAQSkZJRgABAQEADAAMAAD/2wBDAAgGBgcGBQgHBwcJCQgKDBQNDAsLDBkSEw8UHRofHh0aHBwgJC4nICIsIxwcKDcpLDAxNDQ0Hyc5PTgyPC4zNDL/2wBDAQkJCQwLDBgNDRgyIRwhMjIyMjIyMjIyMjIyMjIyMjIyMjIyMjIyMjIyMjIyMjIyMjIyMjIyMjIyMjIyMjIyMjL/wAARCACFAMgDAREAAhEBAxEB/8QAHwAAAQUBAQEBAQEAAAAAAAAAAAECAwQFBgcICQoL/8QAtRAAAgEDAwIEAwUFBAQAAAF9AQIDAAQRBRIhMUEGE1FhByJxFDKBkaEII0KxwRVS0fAkM2JyggkKFhcYGRolJicoKSo0NTY3ODk6Q0RFRkdISUpTVFVWV1hZWmNkZWZnaGlqc3R1dnd4eXqDhIWGh4iJipKTlJWWl5iZmqKjpKWmp6ipqrKztLW2t7i5usLDxMXGx8jJytLT1NXW19jZ2uHi4+Tl5ufo6erx8vP09fb3+Pn6/8QAHwEAAwEBAQEBAQEBAQAAAAAAAAECAwQFBgcICQoL/8QAtREAAgECBAQDBAcFBAQAAQJ3AAECAxEEBSExBhJBUQdhcRMiMoEIFEKRobHBCSMzUvAVYnLRChYkNOEl8RcYGRomJygpKjU2Nzg5OkNERUZHSElKU1RVVldYWVpjZGVmZ2hpanN0dXZ3eHl6goOEhYaHiImKkpOUlZaXmJmaoqOkpaanqKmqsrO0tba3uLm6wsPExcbHyMnK0tPU1dbX2Nna4uPk5ebn6Onq8vP09fb3+Pn6/9oADAMBAAIRAxEAPwD1avUPLCgAoAKACgAoAKACgAoAs2eC7KfTPb1/+vXNiV7qZ04Z+80TiaMXRtQHDBN4IAAxnGOledB8tPm82tDu3lb0JQ2PlJP+NZvmm+Wel+n+b/QXNFO3UQyx85YAj3onKElf8SVVSAOpGQ3H1qbe7zOTaXy/JIpT5n7qHI6KM7hk+9VQjGMLbdSpXbHMATknOevvWzmrk8rEVFUgqWOBjlialzvsirdxxYKOTgVEnp7zsJyjHUQqj7SVyQOp5p2jN3aJcYvUYg2qFkUcnAB5FKjGXK01sRTvFWYlzPFaQtK5VEVSScVbZo79CATrMqSD5lIBBHcVE6sYkTqKIrPuOAuB7VzTqc+nQwnUctBhzkAfjRBQSc5fL+vIxe4tY7jKdfWGAUAFABQAUAFABQAUAFADotqyg4Hp0rDFXVKTj0Kg7M0I9oDBRj0JHavFp1OSbUtnr/X9dz0oO8fT8gLNJ8uSoP8AsmrfNU02X4mbcpabDkjMUYAOcdN3Wrp0lDRDjBRAlhk8EZ7HtTqpONm7Xa/M1V73QF5CeRj/AIFWzUe5Kb7D49xXkbfxzUySWw029x+MHrU3KIbhZGjONoA6d65q6m4+RhVUmhFjcxjEhUkY+laUZJKLki4KTp6Mi+zyE+ZISWByAD/n/JrrqVlCNqauZckvikEmW4fJ45BrgqV2rWVglVkrDMBR6CuepNzdzOc3Njd6AnLt+H/6qapuy8/NECKyEkhnP0//AFVrUg+SK/Vdf6QlYazyC4jRYpGiYHdJuUbT24xmsWorctctrkNfUnMFABQAUAFABQAUAFABQAq/eH1qKseaDj3QLc0fNTf5IILr1Ga8KpTTcKcv60Z7NODjDmRJ8/I+UHGM5/8ArVpGdrwk9V1JlG6uhrOVUZKk/X/61WpaWWorWWowSb2IIH1BNTVjJwvvbW3oNNXGG4X+AjPc5zWkbSSl3E3bQnt3DA8knuaJIETVIxrMqIzuQFAySewoEQrdQSyNHFNG7LkFVYEjBwfyPFDjdWGnZkrMAuTk/QVPNZXFJ8pXIaVyQK5ZRlVk2jlcZVJXQ42xyCHwRVfVuzK9h2YyRZY1JIJAHY1VPDTnJJuxnOE4q5Gu48sck/pWdeUG+WC2033M1fqLXOMp19aYBQAUAFABQAUAFABQAUASxRkupIwvXORWNWpFJpPU2pU5OSdtC3DBDHPK68PIwLkHJ6YH8q8mo+epGL6J/jb/ACPRu1r3HuCVIG3n/a/+tWdSpTi+aMldf1YaUno0QYPcV1QnGavF3Iaa3AJu5JIA54PWsa9Xl9yO7/UqMb6sUB2yRnH1rS8KUEm7JE6yZLAQrHJzmsFiYydrP+vxBON7J6j2YDP77BPABwK3ptT1ivzCWm7FVgekqNjrz/gKtxaewlJdxSzMOetZ3d7Iu2hAZvlJ2SHjkeU2T+VEY2erJk0+gQTyOCfLIHUBlKn9RUSlGGl7+Vv+CKCnrfYsDeQOx+maXtG3ZRf4f5mlvMOSSrYP4U1U97lejE1dEc65C4Hesq8NFZGFaOisV8Y61yNNaM5mrblOvrDAKACgAoAKACgAoAKACgDRhIMKMD0GOteZVhao2ejSs4pkmQT7fXpXFOnH2q5tmvlc3j8OgueNoFb2hFcpG7sJwM56GuN8lOUr37q118vv/M1s2Q3IVrOXa7J8p+ZOSPpV06EIyhKUbu6vfz06kzk+V2dtBbVlktYWBLBkU5YYJ4rplQgpO8RSfN6CNGVcjnA71wzXLI5fZtS8iRW3kjJBIq1JTTtdOxrCqptRaBiyoMfNn6V0QUnFOMt/I1dk9hT5hjIQAuem44B/EU6Lbjd93+YS3Ej81j+8SMcDBRif5gU5y5dIq7Ykk9SYIqjoOO9KMbeo2xpkwQMZzVNq/KS5JOwjZPUGm4xkrNXKuJnjJ3ZHNZuhHpf73/mDm0VQF81m2vuOc5LY5x2PHb+fqa46salvef5HLKom9YlSvqDiCgAoAKACgAoAKACgAoAsWshWUJn5WPf1rGvBSjfqjahNxlboyy8iIPvE7+m3BrzJUZVOaNtjtdWEEpb3Hg5UHJwayg7LmlutP0KnLZ9CN54lk8tpV3Hnb3x9KmupS5bLrf7i4Pe4qSRyw74mUq3RlGR6VrX/AIbFHckQk4BIz/u1VnJ9hJW1YjPED87BsdcNiq5eVWJlNWuxF8sE7GBzkY3ZNY1aShRlZdGFJRUkkP6kDgHPftSlzWSTs2a3V2VGgdL9riOONmI25MhHGPTGOv6flWkVOFPkT7vYl6yv+uhLHbwIUfyYklHdQOPocD1NOEXu3e4MseWrdyf+BGnqIU4Xt9MmgBGIA+ZgM/hQk3sDaW5WlliA2rLn1O6oqqbVkn6nPUqLZMjBDd8/jXJKE1qZblSvpjmCgAoAKACgAoAKACgAoAdGQJUJIA3DqamavFlQ+JEyRrtB3IQuRjiuObkm/O3Q6YxTj6FuNFEKBXVhwDxXnOpFScZ738+up1KF4oeGx8oJ9hnGKSqp1PcT29EWo+7roI2WOT+FYzjUtKEpWVrq3+e+hato0Rnz9vCRZwf+Wh6547eldHs6dr3f3v8AzIvK+wsYkKfvVQN6KSw/UClGEvsN/N/8OOXK/iQTRzOjeVOkZK4GYt2Dnr1HbPFFSEnB+0enkCaT90WIOExI6s3dlUqPyyf51dOmklJ3v5tslsfjuK2EGR6/jUw+EctxwVSSw+nHFTazuSo63EeMOMdKbKGtIpjG6ObDfL/qmyP0puL2RLSasIbZV7niuaVG+rbMfYJFeuW73Ocp19WYBQAUAFABQAUAFABQAUAPiGZUHvUVHaDKpq8ki81vFJyRIOc8O4x+APHavNPTEVgjEKrlc8HJY/rzWc6Tb546P+twjLSzHzLGwzLEjL3DJk/l171hOr8Le99fuf8Aw5TfKmyNoUcfc2gDAAcqOvoKqt8DnDdeQU3cegaLhUyO25ifbvXRBR5U0yW3cUNIScqB9G61im5y/dy07/5fqVd295ajCju4O+RBjopXH8s05wScVJ3BN66DxHgHczOD/fwf5Crt2YEgQYBCgenHSs+aRVkQm0gy2IYQWGDiMcjrg+vNNu8fiM5Qk/IekUUJ3BYo3bgsIwM+lUr23uCVtyUMCOOfcU7DDd7H8qVgGyNiNsHmoqNqLaJm7RdipXnt3OIp19YYBQAUAFADPNjzjeM5xjPf/JFAAJYy20Ou49s80APoAKACgB0bFZFI9aiqrwaLpu00WJpCx2qWHHNclJKMednXUbcuREQRpEwr5boQT/8AWqo1/e1WhEqHu6PUsDZOgikRhKqAE72XI46EY9B+dcmLoqUZVIpeW3qb0amqg+gyO3mik3rImDgEZcjHGeC2Og64/rWEpRqRik93/wAH9DVJxuSpIYykU0qGV+gUEBsDnAyfrSp0F7yle1++mv8AWw+ZsmIwTgk4710rQgO4Pasqu8X2f6NFR6kEhuGYJDcRbyxODFkBeOvzDnrz79OK29m3G8tF+ZHtEpWjqy7WZYhA6kfpQA3AByExxik9NUPcd0PvTZIUDEYbhyKBNXKjqFcgdq4qkFGVkzknFJ2RRr6Y5AoAKACgAyfWgAyfWgAoAKAA+1Go9A7+1Jpgmh5wmNvQr3Oa56VO8XGXc3qTcZKS6ofFOY2zgY74FEsLB6rcUcRJO7C5ncqXijRmx8pLEfnwcVhRouDcH/wP6/pm1SopLnX/AAR8VzJLKikAjuTkEYHTgVGLw8IQdZJJodCtKUuRjnb9+CbKU7WIVwynHuMtkD9eDxWEpcjTvZPR/odCVyVGdmJaJ4yDja3P6g1cpqO4JXCZHkUELGSeobI4/I1g4VJ2nez/AAX+YSSa5R8ECIuGjQN3I5z+dautVlPlm/QmNKEVoiVQqEhVA+g60czk3cI2u0kO6n2FBQpoGJ069Kj4fQe4ZFWtdRCZGO9AiBoHLE8c1yzoylJs55UpN3M2vozhCgAoAKACgAoAKACgAoAKADvRYEwpW8x38hVALjIU54ye3vWdSLtzLdf1YuEvsvqSQkxT/MoJGR171FdqVG62HTfs567on+0yGaSH7PISiBhjgMT2BPGa8hUJVKa5p6aq2z02vvueipq7010/H/IeJZgRi1kxuAJJTgHqevQf/qohTUGkt+/f+uwSbe2xYCkfdxiuhBsNYHb8p596xrNJc3VFRTYweayH5xkdDWymr/CZpNp6kiKcbllJB55GalWTd0wUWtUyRjgE9cc1EppIt6K7I45fNBKgcHvxU05KerJjUUloOZC2MgDBz1/+tTlTu7pjaUrXFXOMNjPtTi3tLcEmLVjMWvZPICgAoAKACgAoAKACgAoAKACgAoAKAJZyG2MOpXn61z0XyKUZPRP/AIY2ra2kuqLkMjPGCVxmvOl7laUY63/p/odtKXPBNitMkY+chc/dyRzUThOUX3WxpGSXQZZ7ViEK3H2jacliwJAJOM4NaylzvmWiYlorPcskEDj35rKrpSkl2KWstSNt0aklzyfQVc6kY2dtzGXu6kEKhUUySSBvTPFaYitTU2rJmdN8sVzN/eW1YncuCcdCR1rBO99DdNu9xyjA6AE9qcVpsCWgFVPUA/hVFCFR2AHuBSauCADHcmld9h2RjV7Z44UAFABQAUAFABQAUAFABQAUAFABQBahQNbtuGQOcAZPHtXmYxT57wdmdlKHPSsyRJQgB8uUrx/yxfPPtj2ripQlCab8/wBDenDli0TKMgOF27gGwc5H4Y4rqbtuUSKMAY/EVjR0pRT7IqW7FMijAJ5PQVdhEbDcFBz19Olc1OPNTiv6QqkW3qPBU9VJ+qmujlQWQ8dKZQnWgBaACgAoAxK9k8gKACgAoAKACgAoAKACgAoAKACgAoAswORHhfvCvMxklTqqUtmjoo1OVFlZEZQH6jqcVgl7aLsmjrhVTHgg5Abpx0rlrRqRpv2jfrpb8tP61NouLehIAcD5q1VOVtJv8P8AIV+6I2hRicjn1BIxVN1F9pfd/wAELLsJuSMjL9eMZNZQU4z5nJO++n3FOzQC7h6ZYnGeEJ/pXZyMzFFwG+7G7fkP5mly23YCebKeBAQf9ph/TNZynCLs3d+SuUkxqrdYAkdPqOKFUgviTX3f5hy9hRBMGB+0ZAHQj/69apxtoiRPsgIH7xwR3U0c/kFjNr1jyQoAKACgAoAKACgAoAKACgAoAD7UahoIc9gPzoAntlLSHkBcc+tcWMgpRTkdFCKk2XVVlwA+AB0z1/SuKEWo6HfZR0HZPQKp+p6/pV+8L3SFbGDzA205HQGZioGP7ucd65pVJUfcTXr0XqWlfUlaBTwwIHT1/StadGMVqlf0JcrjVjVRjC9O4Fc756s/caSXl5r/ACLSUVqHljfyAq/7IwcfhXT7J/ak/wAvyIv2Q4bOuGx9Wpexj/TYczHLNH93IDdeaikuVOD3HLXUHdsjYYiPRmI/oa1cU1ZiuLldmW2g9yDwKz9jT6IfMxd6j+IEfWptKm7JNr+u7DRmPXvnjhQAUAFABQAUAFABQAUAFABQAUAFAFqxGZG9MVx4x+6l3OrCfE2XGHOQD+Wa5FsdjEVsHI6ng5BqhAR6MMVjJL2mvVFbxAPKOj4/D/69RUUYLRtdkhrUlCq69fn/AENXSvCKi9xS11QyTcPvYLdxWxI0nkfSgByHgkk1gm5VH5afqXsh5b5c5rREgM9eppAAB3ZGfenfQDFr2DyQoAKACgAoAKACgAoAKACgAoAKACgCzYnE/wBRXJjF7ifmdOEfvteRokA9e1cKdjuECL1Krk+1PmYrDDwxAA5Nc+Im7wgur/IqC3YwEMxBAPNbU4W9+WrYm+goVQeFUfQCrnsC3HBFyGwCfcCmIaUQNwi/lQDF2INwCLx0OKzjpOS9H+n6DeyGlRjoPyqMRW9jDntccY8zsPRCq5DfoKiE6lRcyaXy/wCCNpLQXJPU9TisnVk/3b72/r8hqK3P/9k=' width='200' height='133' class=\"itemThumbnail\">\n",
       "                       </a>\n",
       "                    </div>\n",
       "\n",
       "                    <div class=\"item_right\"     style=\"float: none; width: auto; overflow: hidden;\">\n",
       "                        <a href='https://portlandia.maps.arcgis.com/home/item.html?id=da5fdb60b7854b2881f80e275bb802da' target='_blank'><b>San Diego, California</b>\n",
       "                        </a>\n",
       "                        <br/>This map is designed for use in Navigator for ArcGIS and contains data for San Diego, California supporting map display, geocoding and routing.<img src='https://portlandia.maps.arcgis.com/home/js/jsapi/esri/css/images/item_type_icons/layers16.png' style=\"vertical-align:middle;\">Mobile Map Package by esri_nav\n",
       "                        <br/>Last Modified: November 29, 2018\n",
       "                        <br/>0 comments, 302 views\n",
       "                    </div>\n",
       "                </div>\n",
       "                "
      ],
      "text/plain": [
       "<Item title:\"San Diego, California\" type:Mobile Map Package owner:esri_nav>"
      ]
     },
     "execution_count": 26,
     "metadata": {},
     "output_type": "execute_result"
    }
   ],
   "source": [
    "map_item = gis.content.search('title:San Diego, California owner:esri_nav', outside_org=True)[0]\n",
    "map_item"
   ]
  },
  {
   "cell_type": "markdown",
   "metadata": {},
   "source": [
    "2. From the apps module, import the Navigator URL builder function and then create a unique URL for each route result. Navigtor will open to the specified Map and Route Layer when the URL is opened. \n",
    "\n",
    " - a. create `url_type` of 'Web' that can opened on iOS or Android devices from email, text message, etc.\n",
    " - b. set the`route_item` parameter from the route's `RouteLayerItemID` attribute\n",
    " - c. use the preferred map as the `webmap` parameter"
   ]
  },
  {
   "cell_type": "code",
   "execution_count": 27,
   "metadata": {},
   "outputs": [
    {
     "name": "stdout",
     "output_type": "stream",
     "text": [
      "https://navigator.arcgis.app?itemID=da5fdb60b7854b2881f80e275bb802da&routeItemID=5c159a41df2e45bbba1ff1eab63ab95d\n",
      "https://navigator.arcgis.app?itemID=da5fdb60b7854b2881f80e275bb802da&routeItemID=33fedfe358044efaa4de9bd97e51169b\n",
      "https://navigator.arcgis.app?itemID=da5fdb60b7854b2881f80e275bb802da&routeItemID=4f5262a363e842deb05cc8da16fbf9a7\n",
      "https://navigator.arcgis.app?itemID=da5fdb60b7854b2881f80e275bb802da&routeItemID=d114585300614613bb8f480bca3edded\n"
     ]
    }
   ],
   "source": [
    "from arcgis.apps import build_navigator_url\n",
    "\n",
    "routes = routes_layer.query(out_fields=\"OBJECTID,RouteLayerItemID,RouteLayerItemURL,StopCount,TotalStopServiceTime,SHAPE\")\n",
    "for route in routes:\n",
    "    route_layer_item_id = route.attributes['RouteLayerItemID']\n",
    "    share_route_with_group(route_layer_item_id, \"NavUsers Routes\")\n",
    "    url = build_navigator_url(url_type='Web',webmap=map_item, route_item=route_layer_item_id)\n",
    "    print(url)"
   ]
  }
 ],
 "metadata": {
  "kernelspec": {
   "display_name": "Python 3",
   "language": "python",
   "name": "python3"
  },
  "language_info": {
   "codemirror_mode": {
    "name": "ipython",
    "version": 3
   },
   "file_extension": ".py",
   "mimetype": "text/x-python",
   "name": "python",
   "nbconvert_exporter": "python",
   "pygments_lexer": "ipython3",
   "version": "3.6.7"
  }
 },
 "nbformat": 4,
 "nbformat_minor": 1
}
